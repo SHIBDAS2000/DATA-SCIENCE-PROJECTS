{
  "metadata": {
    "kernelspec": {
      "name": "python3",
      "display_name": "Python 3",
      "language": "python"
    },
    "language_info": {
      "name": "python",
      "version": "3.10.12",
      "mimetype": "text/x-python",
      "codemirror_mode": {
        "name": "ipython",
        "version": 3
      },
      "pygments_lexer": "ipython3",
      "nbconvert_exporter": "python",
      "file_extension": ".py"
    },
    "kaggle": {
      "accelerator": "none",
      "dataSources": [
        {
          "sourceId": 2510329,
          "sourceType": "datasetVersion",
          "datasetId": 1520310
        }
      ],
      "isInternetEnabled": true,
      "language": "python",
      "sourceType": "notebook",
      "isGpuEnabled": false
    },
    "colab": {
      "provenance": []
    }
  },
  "nbformat_minor": 0,
  "nbformat": 4,
  "cells": [
    {
      "cell_type": "code",
      "source": [
        "\n",
        "\n",
        "# Importing required modules\n",
        "import re\n",
        "from string import punctuation\n",
        "import numpy as np\n",
        "import pandas as pd\n",
        "\n",
        "\n",
        "# For NLP\n",
        "import nltk\n",
        "from nltk.corpus import stopwords\n",
        "from nltk.stem import WordNetLemmatizer\n",
        "from nltk.tokenize import word_tokenize\n",
        "\n",
        "# For ML\n",
        "from sklearn.model_selection import train_test_split\n",
        "from sklearn.feature_extraction.text import TfidfVectorizer\n",
        "from sklearn.preprocessing import FunctionTransformer, LabelEncoder\n",
        "from sklearn.pipeline import Pipeline\n",
        "from sklearn.linear_model import LogisticRegression, SGDClassifier\n",
        "from sklearn.naive_bayes import MultinomialNB\n",
        "from sklearn.ensemble import RandomForestClassifier\n",
        "from sklearn.metrics import accuracy_score, precision_score, recall_score, f1_score, roc_auc_score\n",
        "from sklearn.metrics import ConfusionMatrixDisplay"
      ],
      "metadata": {
        "trusted": true,
        "execution": {
          "iopub.status.busy": "2025-02-25T14:16:09.783757Z",
          "iopub.execute_input": "2025-02-25T14:16:09.784105Z",
          "iopub.status.idle": "2025-02-25T14:16:09.790491Z",
          "shell.execute_reply.started": "2025-02-25T14:16:09.784077Z",
          "shell.execute_reply": "2025-02-25T14:16:09.789226Z"
        },
        "id": "LsphMo4VGCw1"
      },
      "outputs": [],
      "execution_count": null
    },
    {
      "cell_type": "code",
      "source": [
        "# Unzipping wordnet.zip file\n",
        "!unzip /usr/share/nltk_data/corpora/wordnet.zip -d /usr/share/nltk_data/corpora/"
      ],
      "metadata": {
        "trusted": true,
        "execution": {
          "iopub.status.busy": "2025-02-25T14:16:09.791408Z",
          "iopub.execute_input": "2025-02-25T14:16:09.79179Z",
          "iopub.status.idle": "2025-02-25T14:16:10.389458Z",
          "shell.execute_reply.started": "2025-02-25T14:16:09.791747Z",
          "shell.execute_reply": "2025-02-25T14:16:10.387858Z"
        },
        "id": "vwI4ZXf_GCw6"
      },
      "outputs": [],
      "execution_count": null
    },
    {
      "cell_type": "code",
      "source": [
        "# Reading data from the file\n",
        "train_filename = \"twitter_training.csv\"\n",
        "df_train = pd.read_csv(train_filename, names = ['id', 'game/company', 'label', 'tweet'])\n",
        "df_train.head()"
      ],
      "metadata": {
        "trusted": true,
        "execution": {
          "iopub.status.busy": "2025-02-25T14:16:10.390897Z",
          "iopub.execute_input": "2025-02-25T14:16:10.391386Z",
          "iopub.status.idle": "2025-02-25T14:16:10.839929Z",
          "shell.execute_reply.started": "2025-02-25T14:16:10.391343Z",
          "shell.execute_reply": "2025-02-25T14:16:10.838831Z"
        },
        "id": "WG8mWVA8GCw8"
      },
      "outputs": [],
      "execution_count": null
    },
    {
      "cell_type": "code",
      "source": [
        "# Reading data from the file: \"twitter_validation.csv\"\n",
        "test_filename = \"twitter_training.csv\"\n",
        "df_test = pd.read_csv(test_filename, names = ['id', 'game/company', 'label', 'tweet'])\n",
        "df_test.head()"
      ],
      "metadata": {
        "trusted": true,
        "execution": {
          "iopub.status.busy": "2025-02-25T14:16:10.842664Z",
          "iopub.execute_input": "2025-02-25T14:16:10.843045Z",
          "iopub.status.idle": "2025-02-25T14:16:10.866296Z",
          "shell.execute_reply.started": "2025-02-25T14:16:10.84301Z",
          "shell.execute_reply": "2025-02-25T14:16:10.865186Z"
        },
        "id": "aGSHiW0qGCw8"
      },
      "outputs": [],
      "execution_count": null
    },
    {
      "cell_type": "code",
      "source": [
        "# Describing the data\n",
        "df_train.describe(include='object').T"
      ],
      "metadata": {
        "trusted": true,
        "execution": {
          "iopub.status.busy": "2025-02-25T14:16:10.867891Z",
          "iopub.execute_input": "2025-02-25T14:16:10.868308Z",
          "iopub.status.idle": "2025-02-25T14:16:11.037614Z",
          "shell.execute_reply.started": "2025-02-25T14:16:10.86828Z",
          "shell.execute_reply": "2025-02-25T14:16:11.036047Z"
        },
        "id": "TF2cIZbrGCw9"
      },
      "outputs": [],
      "execution_count": null
    },
    {
      "cell_type": "code",
      "source": [
        "# Checking the datatypes\n",
        "df_train.info()"
      ],
      "metadata": {
        "trusted": true,
        "execution": {
          "iopub.status.busy": "2025-02-25T14:16:11.0386Z",
          "iopub.execute_input": "2025-02-25T14:16:11.03903Z",
          "iopub.status.idle": "2025-02-25T14:16:11.089879Z",
          "shell.execute_reply.started": "2025-02-25T14:16:11.038992Z",
          "shell.execute_reply": "2025-02-25T14:16:11.088406Z"
        },
        "id": "01en6HwpGCw9"
      },
      "outputs": [],
      "execution_count": null
    },
    {
      "cell_type": "code",
      "source": [
        "# Checking if we have any null values\n",
        "df_train.isnull().sum()"
      ],
      "metadata": {
        "trusted": true,
        "execution": {
          "iopub.status.busy": "2025-02-25T14:16:11.091184Z",
          "iopub.execute_input": "2025-02-25T14:16:11.091584Z",
          "iopub.status.idle": "2025-02-25T14:16:11.120652Z",
          "shell.execute_reply.started": "2025-02-25T14:16:11.091544Z",
          "shell.execute_reply": "2025-02-25T14:16:11.119399Z"
        },
        "id": "KY1EcdsZGCw9"
      },
      "outputs": [],
      "execution_count": null
    },
    {
      "cell_type": "code",
      "source": [
        "# Checking the rows with null tweet values\n",
        "df_train[df_train['tweet'].isnull()]"
      ],
      "metadata": {
        "trusted": true,
        "execution": {
          "iopub.status.busy": "2025-02-25T14:16:11.121985Z",
          "iopub.execute_input": "2025-02-25T14:16:11.122396Z",
          "iopub.status.idle": "2025-02-25T14:16:11.145649Z",
          "shell.execute_reply.started": "2025-02-25T14:16:11.122358Z",
          "shell.execute_reply": "2025-02-25T14:16:11.144179Z"
        },
        "id": "2HYAEzTyGCw9"
      },
      "outputs": [],
      "execution_count": null
    },
    {
      "cell_type": "code",
      "source": [
        "# Dropping the rows with null tweets\n",
        "df_train = df_train.dropna()\n",
        "df_train.isnull().sum()"
      ],
      "metadata": {
        "trusted": true,
        "execution": {
          "iopub.status.busy": "2025-02-25T14:16:11.146774Z",
          "iopub.execute_input": "2025-02-25T14:16:11.147164Z",
          "iopub.status.idle": "2025-02-25T14:16:11.191555Z",
          "shell.execute_reply.started": "2025-02-25T14:16:11.147134Z",
          "shell.execute_reply": "2025-02-25T14:16:11.190233Z"
        },
        "id": "MKKnrnkxGCw-"
      },
      "outputs": [],
      "execution_count": null
    },
    {
      "cell_type": "markdown",
      "source": [
        "---"
      ],
      "metadata": {
        "id": "46Lg3Ey6GCw-"
      }
    },
    {
      "cell_type": "markdown",
      "source": [
        "## **Data Preprocessing**"
      ],
      "metadata": {
        "id": "dZf-62LpGCw-"
      }
    },
    {
      "cell_type": "code",
      "source": [
        "# Creating a function for lowercasing the tweets\n",
        "def convert_to_lowercase(tweets):\n",
        "    \"\"\"\n",
        "    Function for converting the text in the input series to lowercase.\n",
        "\n",
        "    Parameter:\n",
        "        - tweets: A Pandas Series containing text data.\n",
        "\n",
        "    Returns:\n",
        "        - A Pandas Series with all text in lowercase.\n",
        "    \"\"\"\n",
        "\n",
        "    return tweets.str.lower()\n"
      ],
      "metadata": {
        "trusted": true,
        "execution": {
          "iopub.status.busy": "2025-02-25T14:16:11.192752Z",
          "iopub.execute_input": "2025-02-25T14:16:11.193208Z",
          "iopub.status.idle": "2025-02-25T14:16:11.199812Z",
          "shell.execute_reply.started": "2025-02-25T14:16:11.193163Z",
          "shell.execute_reply": "2025-02-25T14:16:11.198506Z"
        },
        "id": "MKouve9AGCw_"
      },
      "outputs": [],
      "execution_count": null
    },
    {
      "cell_type": "code",
      "source": [
        "# Testing convert_to_lowercase function\n",
        "convert_to_lowercase(df_train['tweet'][:10])"
      ],
      "metadata": {
        "trusted": true,
        "execution": {
          "iopub.status.busy": "2025-02-25T14:16:11.201042Z",
          "iopub.execute_input": "2025-02-25T14:16:11.201466Z",
          "iopub.status.idle": "2025-02-25T14:16:11.224669Z",
          "shell.execute_reply.started": "2025-02-25T14:16:11.201424Z",
          "shell.execute_reply": "2025-02-25T14:16:11.223387Z"
        },
        "id": "DMI5ivnmGCw_"
      },
      "outputs": [],
      "execution_count": null
    },
    {
      "cell_type": "code",
      "source": [
        "# Checking if we have any HTML/XML tags in tweets\n",
        "df_train[df_train['tweet'].str.contains('<.*?>')]"
      ],
      "metadata": {
        "trusted": true,
        "execution": {
          "iopub.status.busy": "2025-02-25T14:16:11.225512Z",
          "iopub.execute_input": "2025-02-25T14:16:11.225959Z",
          "iopub.status.idle": "2025-02-25T14:16:11.29467Z",
          "shell.execute_reply.started": "2025-02-25T14:16:11.225894Z",
          "shell.execute_reply": "2025-02-25T14:16:11.293064Z"
        },
        "id": "N6Qf3XXyGCxA"
      },
      "outputs": [],
      "execution_count": null
    },
    {
      "cell_type": "code",
      "source": [
        "# Creating a function for removing HTML/XML tags from the tweets\n",
        "def remove_html_tags(tweets):\n",
        "    \"\"\"\n",
        "    Function for removing HTML/XML tags from the input series.\n",
        "\n",
        "    Parameter:\n",
        "        - tweets: A Pandas Series containing text with HTML/XML tags.\n",
        "\n",
        "    Returns:\n",
        "        - A Pandas Series with HTML/XML tags removed.\n",
        "    \"\"\"\n",
        "\n",
        "    return tweets.str.replace(\"<.*?>\", \"\", regex=True)\n"
      ],
      "metadata": {
        "trusted": true,
        "execution": {
          "iopub.status.busy": "2025-02-25T14:16:11.302376Z",
          "iopub.execute_input": "2025-02-25T14:16:11.302855Z",
          "iopub.status.idle": "2025-02-25T14:16:11.309568Z",
          "shell.execute_reply.started": "2025-02-25T14:16:11.302808Z",
          "shell.execute_reply": "2025-02-25T14:16:11.307806Z"
        },
        "id": "6zBt5JhSGCxA"
      },
      "outputs": [],
      "execution_count": null
    },
    {
      "cell_type": "code",
      "source": [
        "# Testing remove_html_tags function\n",
        "remove_html_tags(df_train[df_train['tweet'].str.contains('<.*?>', regex = True)]['tweet'][:10])"
      ],
      "metadata": {
        "trusted": true,
        "execution": {
          "iopub.status.busy": "2025-02-25T14:16:11.31338Z",
          "iopub.execute_input": "2025-02-25T14:16:11.313869Z",
          "iopub.status.idle": "2025-02-25T14:16:11.395445Z",
          "shell.execute_reply.started": "2025-02-25T14:16:11.313824Z",
          "shell.execute_reply": "2025-02-25T14:16:11.394289Z"
        },
        "id": "pJLMEgcjGCxA"
      },
      "outputs": [],
      "execution_count": null
    },
    {
      "cell_type": "code",
      "source": [
        "# Creating a function for removing punctuations from the tweets\n",
        "def remove_punctuations(tweets):\n",
        "    \"\"\"\n",
        "    Function for removing punctuation from the input series.\n",
        "\n",
        "    Parameter:\n",
        "        - tweets: A Pandas Series containing text with punctuation.\n",
        "\n",
        "    Returns:\n",
        "        - A Pandas Series with punctuation removed.\n",
        "    \"\"\"\n",
        "\n",
        "    return tweets.str.translate(str.maketrans(\"\", \"\", punctuation))\n"
      ],
      "metadata": {
        "trusted": true,
        "execution": {
          "iopub.status.busy": "2025-02-25T14:16:11.830834Z",
          "iopub.execute_input": "2025-02-25T14:16:11.831306Z",
          "iopub.status.idle": "2025-02-25T14:16:11.837773Z",
          "shell.execute_reply.started": "2025-02-25T14:16:11.831263Z",
          "shell.execute_reply": "2025-02-25T14:16:11.836546Z"
        },
        "id": "5XiVp-obGCxD"
      },
      "outputs": [],
      "execution_count": null
    },
    {
      "cell_type": "code",
      "source": [
        "# Dictionary of common chat abbreviations and their full forms.\n",
        "# This dictionary contains popular shorthand used in text messaging and online chatting.\n",
        "# Each key is a chat abbreviation, and the corresponding value is the full phrase or meaning.\n",
        "# Reference: https://github.com/rishabhverma17/sms_slang_translator/blob/master/slang.txt\n",
        "\n",
        "chat_words = {\n",
        "    \"AFAIK\": \"As Far As I Know\",\n",
        "    \"AFK\": \"Away From Keyboard\",\n",
        "    \"ASAP\": \"As Soon As Possible\",\n",
        "    \"ATK\": \"At The Keyboard\",\n",
        "    \"ATM\": \"At The Moment\",\n",
        "    \"A3\": \"Anytime, Anywhere, Anyplace\",\n",
        "    \"BAK\": \"Back At Keyboard\",\n",
        "    \"BBL\": \"Be Back Later\",\n",
        "    \"BBS\": \"Be Back Soon\",\n",
        "    \"BFN\": \"Bye For Now\",\n",
        "    \"B4N\": \"Bye For Now\",\n",
        "    \"BRB\": \"Be Right Back\",\n",
        "    \"BRT\": \"Be Right There\",\n",
        "    \"BTW\": \"By The Way\",\n",
        "    \"B4\": \"Before\",\n",
        "    \"CU\": \"See You\",\n",
        "    \"CUL8R\": \"See You Later\",\n",
        "    \"CYA\": \"See You\",\n",
        "    \"FAQ\": \"Frequently Asked Questions\",\n",
        "    \"FC\": \"Fingers Crossed\",\n",
        "    \"FWIW\": \"For What It's Worth\",\n",
        "    \"FYI\": \"For Your Information\",\n",
        "    \"GAL\": \"Get A Life\",\n",
        "    \"GG\": \"Good Game\",\n",
        "    \"GN\": \"Good Night\",\n",
        "    \"GMTA\": \"Great Minds Think Alike\",\n",
        "    \"GR8\": \"Great!\",\n",
        "    \"G9\": \"Genius\",\n",
        "    \"IC\": \"I See\",\n",
        "    \"ICQ\": \"I Seek you (also a chat program)\",\n",
        "    \"ILU\": \"ILU: I Love You\",\n",
        "    \"IMHO\": \"In My Honest/Humble Opinion\",\n",
        "    \"IMO\": \"In My Opinion\",\n",
        "    \"IOW\": \"In Other Words\",\n",
        "    \"IRL\": \"In Real Life\",\n",
        "    \"KISS\": \"Keep It Simple, Stupid\",\n",
        "    \"LDR\": \"Long Distance Relationship\",\n",
        "    \"LMAO\": \"Laugh My A.. Off\",\n",
        "    \"LOL\": \"Laughing Out Loud\",\n",
        "    \"LTNS\": \"Long Time No See\",\n",
        "    \"L8R\": \"Later\",\n",
        "    \"MTE\": \"My Thoughts Exactly\",\n",
        "    \"M8\": \"Mate\",\n",
        "    \"NRN\": \"No Reply Necessary\",\n",
        "    \"OIC\": \"Oh I See\",\n",
        "    \"PITA\": \"Pain In The A..\",\n",
        "    \"PRT\": \"Party\",\n",
        "    \"PRW\": \"Parents Are Watching\",\n",
        "    \"QPSA?\": \"Que Pasa?\",\n",
        "    \"ROFL\": \"Rolling On The Floor Laughing\",\n",
        "    \"ROFLOL\": \"Rolling On The Floor Laughing Out Loud\",\n",
        "    \"ROTFLMAO\": \"Rolling On The Floor Laughing My A.. Off\",\n",
        "    \"SK8\": \"Skate\",\n",
        "    \"STATS\": \"Your sex and age\",\n",
        "    \"ASL\": \"Age, Sex, Location\",\n",
        "    \"THX\": \"Thank You\",\n",
        "    \"TTFN\": \"Ta-Ta For Now!\",\n",
        "    \"TTYL\": \"Talk To You Later\",\n",
        "    \"U\": \"You\",\n",
        "    \"U2\": \"You Too\",\n",
        "    \"U4E\": \"Yours For Ever\",\n",
        "    \"WB\": \"Welcome Back\",\n",
        "    \"WTF\": \"What The F...\",\n",
        "    \"WTG\": \"Way To Go!\",\n",
        "    \"WUF\": \"Where Are You From?\",\n",
        "    \"W8\": \"Wait...\",\n",
        "    \"7K\": \"Sick:-D Laugher\",\n",
        "    \"TFW\": \"That feeling when\",\n",
        "    \"MFW\": \"My face when\",\n",
        "    \"MRW\": \"My reaction when\",\n",
        "    \"IFYP\": \"I feel your pain\",\n",
        "    \"TNTL\": \"Trying not to laugh\",\n",
        "    \"JK\": \"Just kidding\",\n",
        "    \"IDC\": \"I don't care\",\n",
        "    \"ILY\": \"I love you\",\n",
        "    \"IMU\": \"I miss you\",\n",
        "    \"ADIH\": \"Another day in hell\",\n",
        "    \"ZZZ\": \"Sleeping, bored, tired\",\n",
        "    \"WYWH\": \"Wish you were here\",\n",
        "    \"TIME\": \"Tears in my eyes\",\n",
        "    \"BAE\": \"Before anyone else\",\n",
        "    \"FIMH\": \"Forever in my heart\",\n",
        "    \"BSAAW\": \"Big smile and a wink\",\n",
        "    \"BWL\": \"Bursting with laughter\",\n",
        "    \"BFF\": \"Best friends forever\",\n",
        "    \"CSL\": \"Can't stop laughing\",\n",
        "    \"L8\": \"Late\",\n",
        "    \"SMH\": \"Shaking My Head\",\n",
        "    \"YOLO\": \"You Only Live Once\",\n",
        "    \"TLDR\": \"Too Long; Didn't Read\",\n",
        "    \"FOMO\": \"Fear Of Missing Out\",\n",
        "    \"IDK\": \"I Don't Know\",\n",
        "    \"BFFL\": \"Best Friends For Life\",\n",
        "    \"TMI\": \"Too Much Information\",\n",
        "    \"DM\": \"Direct Message\",\n",
        "    \"STFU\": \"Shut The F... Up\",\n",
        "    \"WTH\": \"What The Heck\",\n",
        "    \"LMAOROTF\": \"Laughing My A... Off Rolling On The Floor\",\n",
        "    \"PPL\": \"People\",\n",
        "    \"SFLR\": \"Sorry For Late Reply\",\n",
        "    \"G2G\": \"Got To Go\",\n",
        "    \"S2R\": \"Send To Receive\"\n",
        "}\n"
      ],
      "metadata": {
        "trusted": true,
        "execution": {
          "iopub.status.busy": "2025-02-25T14:16:11.838692Z",
          "iopub.execute_input": "2025-02-25T14:16:11.83909Z",
          "iopub.status.idle": "2025-02-25T14:16:11.86783Z",
          "shell.execute_reply.started": "2025-02-25T14:16:11.839054Z",
          "shell.execute_reply": "2025-02-25T14:16:11.866506Z"
        },
        "id": "ugIE1SAuGCxE"
      },
      "outputs": [],
      "execution_count": null
    },
    {
      "cell_type": "code",
      "source": [
        "# Creating a function for replacing chat abbreviations with their full meanings\n",
        "def apply_chat_word_map(tweets):\n",
        "    \"\"\"\n",
        "    Function for replacing abbreviations in the text with their full meanings using a chat word dictionary.\n",
        "\n",
        "    Parameters:\n",
        "        - tweets: A pandas Series containing tweets with abbreviations.\n",
        "\n",
        "    Returns:\n",
        "        - A pandas Series with abbreviations replaced by their full meanings.\n",
        "    \"\"\"\n",
        "    return tweets.apply(lambda text: \" \".join([chat_words.get(word.upper(), word) for word in text.split()]))\n"
      ],
      "metadata": {
        "trusted": true,
        "execution": {
          "iopub.status.busy": "2025-02-25T14:16:11.868981Z",
          "iopub.execute_input": "2025-02-25T14:16:11.869381Z",
          "iopub.status.idle": "2025-02-25T14:16:11.881897Z",
          "shell.execute_reply.started": "2025-02-25T14:16:11.869348Z",
          "shell.execute_reply": "2025-02-25T14:16:11.8808Z"
        },
        "id": "Z5PzC0aIGCxE"
      },
      "outputs": [],
      "execution_count": null
    },
    {
      "cell_type": "code",
      "source": [
        "# Testing the apply_chat_word_map function\n",
        "print(apply_chat_word_map(pd.Series(['IMHO he is the best']))[0])\n",
        "print(apply_chat_word_map(pd.Series(['FYI Delhi is the capital of India']))[0])"
      ],
      "metadata": {
        "trusted": true,
        "execution": {
          "iopub.status.busy": "2025-02-25T14:16:11.882712Z",
          "iopub.execute_input": "2025-02-25T14:16:11.883099Z",
          "iopub.status.idle": "2025-02-25T14:16:11.900843Z",
          "shell.execute_reply.started": "2025-02-25T14:16:11.883063Z",
          "shell.execute_reply": "2025-02-25T14:16:11.899054Z"
        },
        "id": "hAYUmkSnGCxF"
      },
      "outputs": [],
      "execution_count": null
    },
    {
      "cell_type": "code",
      "source": [
        "# Creating a function for removing stop words from the tweets\n",
        "def remove_stopwords(tweets):\n",
        "    \"\"\"\n",
        "    Function for removing common stopwords from the tweets.\n",
        "\n",
        "    Parameters:\n",
        "        - tweets: A pandas Series containing tweets with potential stopwords.\n",
        "\n",
        "    Returns:\n",
        "        - A pandas Series with stopwords removed from each tweet.\n",
        "    \"\"\"\n",
        "    stop_words = set(stopwords.words(\"english\"))\n",
        "    return tweets.apply(lambda text: \" \".join([word for word in text.split() if word not in stop_words]))\n"
      ],
      "metadata": {
        "trusted": true,
        "execution": {
          "iopub.status.busy": "2025-02-25T14:16:11.902107Z",
          "iopub.execute_input": "2025-02-25T14:16:11.902497Z",
          "iopub.status.idle": "2025-02-25T14:16:11.916801Z",
          "shell.execute_reply.started": "2025-02-25T14:16:11.902462Z",
          "shell.execute_reply": "2025-02-25T14:16:11.915823Z"
        },
        "id": "oxLGjSMbGCxF"
      },
      "outputs": [],
      "execution_count": null
    },
    {
      "cell_type": "code",
      "source": [
        "# Testing remove_stopwords function\n",
        "print(remove_stopwords(pd.Series(['I am coming to the borders and I will kill you...']))[0])\n",
        "print(remove_stopwords(pd.Series(['im coming on borderlands and i will murder you...']))[0])\n",
        "print(remove_stopwords(pd.Series(['So I spent a few hours making something for fu...']))[0])\n",
        "print(remove_stopwords(pd.Series(['So I spent a couple of hours doing something f...']))[0])"
      ],
      "metadata": {
        "trusted": true,
        "execution": {
          "iopub.status.busy": "2025-02-25T14:16:11.918202Z",
          "iopub.execute_input": "2025-02-25T14:16:11.918582Z",
          "iopub.status.idle": "2025-02-25T14:16:11.945017Z",
          "shell.execute_reply.started": "2025-02-25T14:16:11.918542Z",
          "shell.execute_reply": "2025-02-25T14:16:11.943679Z"
        },
        "id": "pkEeaythGCxG"
      },
      "outputs": [],
      "execution_count": null
    },
    {
      "cell_type": "code",
      "source": [
        "# Regex to finding emojis\n",
        "emoji_pattern = (\n",
        "        \"[\\U0001F600-\\U0001F64F\" # Emoticons\n",
        "        \"\\U0001F300-\\U0001F5FF\"  # Miscellaneous Symbols and Pictographs\n",
        "        \"\\U0001F680-\\U0001F6FF\"  # Transport and Map Symbols\n",
        "        \"\\U0001F700-\\U0001F77F\"  # Alchemical Symbols\n",
        "        \"\\U0001F780-\\U0001F7FF\"  # Geometric Shapes Extended\n",
        "        \"\\U0001F800-\\U0001F8FF\"  # Supplemental Arrows-C\n",
        "        \"\\U0001F900-\\U0001F9FF\"  # Supplemental Symbols and Pictographs\n",
        "        \"\\U0001FA00-\\U0001FA6F\"  # Chess Symbols\n",
        "        \"\\U0001FA70-\\U0001FAFF\"  # Symbols and Pictographs Extended-A\n",
        "        \"\\U00002702-\\U000027B0\"  # Dingbats\n",
        "        \"\\U000024C2-\\U0001F251\"  # Enclosed characters\n",
        "        \"]+\")\n",
        "\n",
        "# Checking if we have emojis in our dataset\n",
        "df_train[df_train['tweet'].str.contains(emoji_pattern, regex = True)]['tweet']"
      ],
      "metadata": {
        "trusted": true,
        "execution": {
          "iopub.status.busy": "2025-02-25T14:16:11.945881Z",
          "iopub.execute_input": "2025-02-25T14:16:11.946297Z",
          "iopub.status.idle": "2025-02-25T14:16:12.409512Z",
          "shell.execute_reply.started": "2025-02-25T14:16:11.946258Z",
          "shell.execute_reply": "2025-02-25T14:16:12.408433Z"
        },
        "id": "h8eXZwXhGCxG"
      },
      "outputs": [],
      "execution_count": null
    },
    {
      "cell_type": "code",
      "source": [
        "# Creating a function for removing emojis from the tweets\n",
        "def remove_emojis(tweets):\n",
        "    \"\"\"\n",
        "    Function to remove emojis from tweets.\n",
        "\n",
        "    Parameters:\n",
        "        - tweets: A pandas Series containing tweets with possible emojis.\n",
        "\n",
        "    Returns:\n",
        "        - A pandas Series with emojis removed from each tweet.\n",
        "    \"\"\"\n",
        "    return tweets.str.replace(emoji_pattern, \"\", regex=True)\n"
      ],
      "metadata": {
        "trusted": true,
        "execution": {
          "iopub.status.busy": "2025-02-25T14:16:12.410464Z",
          "iopub.execute_input": "2025-02-25T14:16:12.410726Z",
          "iopub.status.idle": "2025-02-25T14:16:12.415529Z",
          "shell.execute_reply.started": "2025-02-25T14:16:12.410705Z",
          "shell.execute_reply": "2025-02-25T14:16:12.41432Z"
        },
        "id": "s8lVMlCFGCxG"
      },
      "outputs": [],
      "execution_count": null
    },
    {
      "cell_type": "code",
      "source": [
        "# Testing remove_emojis function\n",
        "remove_emojis(df_train[df_train['tweet'].str.contains(emoji_pattern, regex = True)]['tweet'][:10])"
      ],
      "metadata": {
        "trusted": true,
        "execution": {
          "iopub.status.busy": "2025-02-25T14:16:12.416577Z",
          "iopub.execute_input": "2025-02-25T14:16:12.416876Z",
          "iopub.status.idle": "2025-02-25T14:16:12.884543Z",
          "shell.execute_reply.started": "2025-02-25T14:16:12.416852Z",
          "shell.execute_reply": "2025-02-25T14:16:12.883439Z"
        },
        "id": "fx614CWRGCxG"
      },
      "outputs": [],
      "execution_count": null
    },
    {
      "cell_type": "code",
      "source": [
        "# Creating a function for removing extra whitespaces from the tweets\n",
        "def remove_extra_whitespaces(tweets):\n",
        "    \"\"\"\n",
        "    Function for removing extra whitespaces from the tweets.\n",
        "\n",
        "    Parameters:\n",
        "        - tweets: A pandas Series containing tweets with extra whitespaces.\n",
        "\n",
        "    Returns:\n",
        "        - A pandas Series with extra whitespaces removed.\n",
        "    \"\"\"\n",
        "\n",
        "    # Replacing multiple whitespaces with a single space\n",
        "    tweets = tweets.str.replace(r\"\\s+\", \" \", regex=True)\n",
        "\n",
        "    # Trimming leading and trailing whitespaces\n",
        "    tweets = tweets.str.strip()\n",
        "\n",
        "    return tweets\n"
      ],
      "metadata": {
        "trusted": true,
        "execution": {
          "iopub.status.busy": "2025-02-25T14:16:12.885406Z",
          "iopub.execute_input": "2025-02-25T14:16:12.885683Z",
          "iopub.status.idle": "2025-02-25T14:16:12.890784Z",
          "shell.execute_reply.started": "2025-02-25T14:16:12.88566Z",
          "shell.execute_reply": "2025-02-25T14:16:12.889566Z"
        },
        "id": "3i8d64ETGCxH"
      },
      "outputs": [],
      "execution_count": null
    },
    {
      "cell_type": "markdown",
      "source": [
        ""
      ],
      "metadata": {
        "id": "VACleduYGCxH"
      }
    },
    {
      "cell_type": "code",
      "source": [
        "# Creating a function for lemmatization tweets\n",
        "def lemmatize_text(tweets):\n",
        "    \"\"\"\n",
        "    Function for lemmatizing each word of the tweets.\n",
        "\n",
        "    Parameters:\n",
        "        - tweets: A pandas Series containing tweets.\n",
        "\n",
        "    Returns:\n",
        "        - A pandas Series with lemmatized tweets.\n",
        "    \"\"\"\n",
        "    lemmatizer = WordNetLemmatizer()\n",
        "    return tweets.apply(lambda text: \" \".join([lemmatizer.lemmatize(word) for word in word_tokenize(text)]))\n"
      ],
      "metadata": {
        "trusted": true,
        "execution": {
          "iopub.status.busy": "2025-02-25T14:16:12.891852Z",
          "iopub.execute_input": "2025-02-25T14:16:12.892189Z",
          "iopub.status.idle": "2025-02-25T14:16:12.909785Z",
          "shell.execute_reply.started": "2025-02-25T14:16:12.892163Z",
          "shell.execute_reply": "2025-02-25T14:16:12.908784Z"
        },
        "id": "kUJ6pioXGCxH"
      },
      "outputs": [],
      "execution_count": null
    },
    {
      "cell_type": "markdown",
      "source": [
        "## **Pipeline**"
      ],
      "metadata": {
        "id": "4tx3foAVGCxH"
      }
    },
    {
      "cell_type": "code",
      "source": [
        "# Creatting a pipeline to process the tweets data\n",
        "tweet_processing_pipeline = Pipeline([\n",
        "    ('convert_to_lowercase', FunctionTransformer(convert_to_lowercase)),\n",
        "    ('remove_html_tags', FunctionTransformer(remove_html_tags)),\n",
        "    ('remove_urls', FunctionTransformer(remove_urls)),\n",
        "    ('remove_emojis', FunctionTransformer(remove_emojis)),\n",
        "    ('chat_word_map', FunctionTransformer(apply_chat_word_map)),\n",
        "    ('remove_punctuations', FunctionTransformer(remove_punctuations)),\n",
        "    ('remove_stopwords', FunctionTransformer(remove_stopwords)),\n",
        "    ('remove_extra_space', FunctionTransformer(remove_extra_whitespaces)),\n",
        "    ('lemmatize', FunctionTransformer(lemmatize_text)),\n",
        "    ('TF-Idf_train', TfidfVectorizer())\n",
        "])"
      ],
      "metadata": {
        "trusted": true,
        "execution": {
          "iopub.status.busy": "2025-02-25T14:16:12.910799Z",
          "iopub.execute_input": "2025-02-25T14:16:12.911147Z",
          "iopub.status.idle": "2025-02-25T14:16:12.929452Z",
          "shell.execute_reply.started": "2025-02-25T14:16:12.911108Z",
          "shell.execute_reply": "2025-02-25T14:16:12.928448Z"
        },
        "id": "84Z-Dnt5GCxH"
      },
      "outputs": [],
      "execution_count": null
    },
    {
      "cell_type": "code",
      "source": [
        "# Splitting the data into X_train and y_train\n",
        "X_train = df_train['tweet']\n",
        "y_train = df_train['label']\n",
        "\n",
        "# Splitting the data into X_test and y_test\n",
        "X_test = df_test['tweet']\n",
        "y_test = df_test['label']"
      ],
      "metadata": {
        "trusted": true,
        "execution": {
          "iopub.status.busy": "2025-02-25T14:16:12.930585Z",
          "iopub.execute_input": "2025-02-25T14:16:12.930975Z",
          "iopub.status.idle": "2025-02-25T14:16:12.947775Z",
          "shell.execute_reply.started": "2025-02-25T14:16:12.930926Z",
          "shell.execute_reply": "2025-02-25T14:16:12.946669Z"
        },
        "id": "2WGm97SdGCxH"
      },
      "outputs": [],
      "execution_count": null
    },
    {
      "cell_type": "code",
      "source": [
        "# Encoding the target variable\n",
        "encoder = LabelEncoder()\n",
        "y_train = encoder.fit_transform(y_train)\n",
        "y_test = encoder.transform(y_test)"
      ],
      "metadata": {
        "trusted": true,
        "execution": {
          "iopub.status.busy": "2025-02-25T14:16:12.949147Z",
          "iopub.execute_input": "2025-02-25T14:16:12.949554Z",
          "iopub.status.idle": "2025-02-25T14:16:12.981873Z",
          "shell.execute_reply.started": "2025-02-25T14:16:12.949513Z",
          "shell.execute_reply": "2025-02-25T14:16:12.980596Z"
        },
        "id": "Lccc7JhHGCxH"
      },
      "outputs": [],
      "execution_count": null
    },
    {
      "cell_type": "code",
      "source": [
        "# Reshaping y into (n, 1) array for machine learning models\n",
        "y_train = y_train.reshape(-1, 1)\n",
        "y_test = y_test.reshape(-1, 1)"
      ],
      "metadata": {
        "trusted": true,
        "execution": {
          "iopub.status.busy": "2025-02-25T14:16:12.983055Z",
          "iopub.execute_input": "2025-02-25T14:16:12.983412Z",
          "iopub.status.idle": "2025-02-25T14:16:12.999785Z",
          "shell.execute_reply.started": "2025-02-25T14:16:12.983379Z",
          "shell.execute_reply": "2025-02-25T14:16:12.998564Z"
        },
        "id": "6yJXeoP9GCxH"
      },
      "outputs": [],
      "execution_count": null
    },
    {
      "cell_type": "code",
      "source": [
        "# Checking which class is assigned to which encoded label\n",
        "dict(zip(encoder.classes_, range(len(encoder.classes_))))"
      ],
      "metadata": {
        "trusted": true,
        "execution": {
          "iopub.status.busy": "2025-02-25T14:16:13.00094Z",
          "iopub.execute_input": "2025-02-25T14:16:13.001286Z",
          "iopub.status.idle": "2025-02-25T14:16:13.019945Z",
          "shell.execute_reply.started": "2025-02-25T14:16:13.001259Z",
          "shell.execute_reply": "2025-02-25T14:16:13.018696Z"
        },
        "id": "xW8vwf-xGCxI"
      },
      "outputs": [],
      "execution_count": null
    },
    {
      "cell_type": "code",
      "source": [
        "# Transforming train and test data\n",
        "X_train = tweet_processing_pipeline.fit_transform(X_train)\n",
        "X_test = tweet_processing_pipeline.transform(X_test)"
      ],
      "metadata": {
        "trusted": true,
        "execution": {
          "iopub.status.busy": "2025-02-25T14:16:13.021203Z",
          "iopub.execute_input": "2025-02-25T14:16:13.021723Z",
          "iopub.status.idle": "2025-02-25T14:16:29.957751Z",
          "shell.execute_reply.started": "2025-02-25T14:16:13.021678Z",
          "shell.execute_reply": "2025-02-25T14:16:29.956387Z"
        },
        "id": "O9ZmF_glGCxI"
      },
      "outputs": [],
      "execution_count": null
    },
    {
      "cell_type": "markdown",
      "source": [
        "---"
      ],
      "metadata": {
        "id": "bkccEcbGGCxI"
      }
    },
    {
      "cell_type": "markdown",
      "source": [
        "##   **Logistic Regression**"
      ],
      "metadata": {
        "id": "CUn13Zw8GCxI"
      }
    },
    {
      "cell_type": "code",
      "source": [
        "# Creating an instance of LogisticRegression and training it\n",
        "model = LogisticRegression(C = 10, solver='saga', max_iter=10000, random_state=101)\n",
        "model.fit(X_train, y_train)"
      ],
      "metadata": {
        "trusted": true,
        "execution": {
          "iopub.status.busy": "2025-02-25T14:16:29.959081Z",
          "iopub.execute_input": "2025-02-25T14:16:29.959481Z",
          "iopub.status.idle": "2025-02-25T14:16:35.290362Z",
          "shell.execute_reply.started": "2025-02-25T14:16:29.959439Z",
          "shell.execute_reply": "2025-02-25T14:16:35.289232Z"
        },
        "id": "RBoss7juGCxI"
      },
      "outputs": [],
      "execution_count": null
    },
    {
      "cell_type": "code",
      "source": [
        "# Making predictions\n",
        "y_pred = model.predict(X_test)"
      ],
      "metadata": {
        "trusted": true,
        "execution": {
          "iopub.status.busy": "2025-02-25T14:16:35.291486Z",
          "iopub.execute_input": "2025-02-25T14:16:35.291889Z",
          "iopub.status.idle": "2025-02-25T14:16:35.297133Z",
          "shell.execute_reply.started": "2025-02-25T14:16:35.291843Z",
          "shell.execute_reply": "2025-02-25T14:16:35.296292Z"
        },
        "id": "YkiwgwzMGCxI"
      },
      "outputs": [],
      "execution_count": null
    },
    {
      "cell_type": "code",
      "source": [
        "# Evaluating the model\n",
        "print(f\"Accuracy: {accuracy_score(y_test, y_pred)}\")\n",
        "print(f\"Precision: {precision_score(y_test, y_pred, average='weighted')}\")\n",
        "print(f\"Recall: {recall_score(y_test, y_pred, average='weighted')}\")\n",
        "print(f\"F1-Score: {f1_score(y_test, y_pred, average='weighted')}\")\n",
        "print(f\"ROC-AUC Score: {roc_auc_score(y_test, model.predict_proba(X_test), average='weighted', multi_class='ovr')}\")"
      ],
      "metadata": {
        "trusted": true,
        "execution": {
          "iopub.status.busy": "2025-02-25T14:16:35.298208Z",
          "iopub.execute_input": "2025-02-25T14:16:35.298611Z",
          "iopub.status.idle": "2025-02-25T14:16:35.338446Z",
          "shell.execute_reply.started": "2025-02-25T14:16:35.29857Z",
          "shell.execute_reply": "2025-02-25T14:16:35.337424Z"
        },
        "id": "K6CbpF-NGCxJ"
      },
      "outputs": [],
      "execution_count": null
    },
    {
      "cell_type": "code",
      "source": [
        "# Checking the Confusion Matrix\n",
        "ConfusionMatrixDisplay.from_estimator(model, X_test, y_test);"
      ],
      "metadata": {
        "trusted": true,
        "execution": {
          "iopub.status.busy": "2025-02-25T14:16:35.33949Z",
          "iopub.execute_input": "2025-02-25T14:16:35.339885Z",
          "iopub.status.idle": "2025-02-25T14:16:35.699525Z",
          "shell.execute_reply.started": "2025-02-25T14:16:35.339847Z",
          "shell.execute_reply": "2025-02-25T14:16:35.698479Z"
        },
        "id": "4IPcetdUGCxJ"
      },
      "outputs": [],
      "execution_count": null
    },
    {
      "cell_type": "markdown",
      "source": [
        "---"
      ],
      "metadata": {
        "id": "phgAyJUBGCxJ"
      }
    },
    {
      "cell_type": "markdown",
      "source": [
        "## **SGDClassifier**"
      ],
      "metadata": {
        "id": "mGTtZjDUGCxJ"
      }
    },
    {
      "cell_type": "code",
      "source": [
        "# Creating an instance of SGDClassifier and training it\n",
        "model = SGDClassifier(loss = \"modified_huber\", penalty='elasticnet', l1_ratio = 0.05, learning_rate='adaptive',\n",
        "                      eta0=0.1, early_stopping=True, max_iter=10000, random_state=101)\n",
        "model.fit(X_train, y_train)"
      ],
      "metadata": {
        "trusted": true,
        "execution": {
          "iopub.status.busy": "2025-02-25T14:16:35.700595Z",
          "iopub.execute_input": "2025-02-25T14:16:35.700893Z",
          "iopub.status.idle": "2025-02-25T14:16:40.564875Z",
          "shell.execute_reply.started": "2025-02-25T14:16:35.700853Z",
          "shell.execute_reply": "2025-02-25T14:16:40.563689Z"
        },
        "id": "fMlczsDuGCxJ"
      },
      "outputs": [],
      "execution_count": null
    },
    {
      "cell_type": "code",
      "source": [
        "# Making predictions\n",
        "y_pred = model.predict(X_test)"
      ],
      "metadata": {
        "trusted": true,
        "execution": {
          "iopub.status.busy": "2025-02-25T14:16:40.569693Z",
          "iopub.execute_input": "2025-02-25T14:16:40.570034Z",
          "iopub.status.idle": "2025-02-25T14:16:40.575295Z",
          "shell.execute_reply.started": "2025-02-25T14:16:40.570008Z",
          "shell.execute_reply": "2025-02-25T14:16:40.574276Z"
        },
        "id": "47jB68ljGCxJ"
      },
      "outputs": [],
      "execution_count": null
    },
    {
      "cell_type": "code",
      "source": [
        "# Evaluating the model\n",
        "print(f\"Accuracy: {accuracy_score(y_test, y_pred)}\")\n",
        "print(f\"Precision: {precision_score(y_test, y_pred, average='weighted')}\")\n",
        "print(f\"Recall: {recall_score(y_test, y_pred, average='weighted')}\")\n",
        "print(f\"F1-Score: {f1_score(y_test, y_pred, average='weighted')}\")"
      ],
      "metadata": {
        "trusted": true,
        "execution": {
          "iopub.status.busy": "2025-02-25T14:16:40.576862Z",
          "iopub.execute_input": "2025-02-25T14:16:40.577228Z",
          "iopub.status.idle": "2025-02-25T14:16:40.680307Z",
          "shell.execute_reply.started": "2025-02-25T14:16:40.577197Z",
          "shell.execute_reply": "2025-02-25T14:16:40.679078Z"
        },
        "id": "uvQA7VloGCxJ"
      },
      "outputs": [],
      "execution_count": null
    },
    {
      "cell_type": "code",
      "source": [
        "# Checking the Confusion Matrix\n",
        "ConfusionMatrixDisplay.from_estimator(model, X_test, y_test)"
      ],
      "metadata": {
        "trusted": true,
        "execution": {
          "iopub.status.busy": "2025-02-25T14:16:40.681552Z",
          "iopub.execute_input": "2025-02-25T14:16:40.68195Z",
          "iopub.status.idle": "2025-02-25T14:16:40.94687Z",
          "shell.execute_reply.started": "2025-02-25T14:16:40.681883Z",
          "shell.execute_reply": "2025-02-25T14:16:40.945917Z"
        },
        "id": "F58BXSgVGCxJ"
      },
      "outputs": [],
      "execution_count": null
    },
    {
      "cell_type": "markdown",
      "source": [
        "---"
      ],
      "metadata": {
        "id": "IZiamXTsGCxJ"
      }
    },
    {
      "cell_type": "markdown",
      "source": [
        "## **RandomForestClassifier**"
      ],
      "metadata": {
        "id": "T2Tlk9MxGCxK"
      }
    },
    {
      "cell_type": "code",
      "source": [
        "# Creating an instance of RandomForestClassifier and training it\n",
        "model = RandomForestClassifier(n_estimators=75, oob_score=True, random_state=101)\n",
        "model.fit(X_train, y_train)"
      ],
      "metadata": {
        "trusted": true,
        "execution": {
          "iopub.status.busy": "2025-02-25T14:16:40.947975Z",
          "iopub.execute_input": "2025-02-25T14:16:40.94825Z",
          "iopub.status.idle": "2025-02-25T14:20:59.686659Z",
          "shell.execute_reply.started": "2025-02-25T14:16:40.948227Z",
          "shell.execute_reply": "2025-02-25T14:20:59.685726Z"
        },
        "id": "2aAo2YQrGCxK"
      },
      "outputs": [],
      "execution_count": null
    },
    {
      "cell_type": "code",
      "source": [
        "# Making predictions\n",
        "y_pred = model.predict(X_test)"
      ],
      "metadata": {
        "trusted": true,
        "execution": {
          "iopub.status.busy": "2025-02-25T14:20:59.687687Z",
          "iopub.execute_input": "2025-02-25T14:20:59.68799Z",
          "iopub.status.idle": "2025-02-25T14:20:59.801694Z",
          "shell.execute_reply.started": "2025-02-25T14:20:59.687962Z",
          "shell.execute_reply": "2025-02-25T14:20:59.800483Z"
        },
        "id": "xmC1VJLxGCxK"
      },
      "outputs": [],
      "execution_count": null
    },
    {
      "cell_type": "code",
      "source": [
        "# Evaluating the model\n",
        "print(f\"Accuracy: {accuracy_score(y_test, y_pred)}\")\n",
        "print(f\"Precision: {precision_score(y_test, y_pred, average='weighted')}\")\n",
        "print(f\"Recall: {recall_score(y_test, y_pred, average='weighted')}\")\n",
        "print(f\"F1-Score: {f1_score(y_test, y_pred, average='weighted')}\")\n",
        "print(f\"ROC-AUC Score: {roc_auc_score(y_test, model.predict_proba(X_test), average='weighted', multi_class='ovr')}\")"
      ],
      "metadata": {
        "trusted": true,
        "execution": {
          "iopub.status.busy": "2025-02-25T14:20:59.803061Z",
          "iopub.execute_input": "2025-02-25T14:20:59.803373Z",
          "iopub.status.idle": "2025-02-25T14:20:59.932204Z",
          "shell.execute_reply.started": "2025-02-25T14:20:59.803348Z",
          "shell.execute_reply": "2025-02-25T14:20:59.931159Z"
        },
        "id": "iJW1C0-JGCxK"
      },
      "outputs": [],
      "execution_count": null
    },
    {
      "cell_type": "code",
      "source": [
        "# Checking the Confusion Matrix\n",
        "ConfusionMatrixDisplay.from_estimator(model, X_test, y_test)"
      ],
      "metadata": {
        "trusted": true,
        "execution": {
          "iopub.status.busy": "2025-02-25T14:20:59.933133Z",
          "iopub.execute_input": "2025-02-25T14:20:59.933392Z",
          "iopub.status.idle": "2025-02-25T14:21:00.309706Z",
          "shell.execute_reply.started": "2025-02-25T14:20:59.93337Z",
          "shell.execute_reply": "2025-02-25T14:21:00.308506Z"
        },
        "id": "f_RiThqrGCxK"
      },
      "outputs": [],
      "execution_count": null
    },
    {
      "cell_type": "markdown",
      "source": [
        "---"
      ],
      "metadata": {
        "id": "LtKR1oLvGCxK"
      }
    },
    {
      "cell_type": "markdown",
      "source": [
        "## **MultinomialNB**"
      ],
      "metadata": {
        "id": "fWBoxjiwGCxK"
      }
    },
    {
      "cell_type": "code",
      "source": [
        "# Creating an instance of MultinomialNB and training it\n",
        "model = MultinomialNB(alpha=0.001)\n",
        "model.fit(X_train, y_train)"
      ],
      "metadata": {
        "trusted": true,
        "execution": {
          "iopub.status.busy": "2025-02-25T14:21:00.310935Z",
          "iopub.execute_input": "2025-02-25T14:21:00.311346Z",
          "iopub.status.idle": "2025-02-25T14:21:00.349359Z",
          "shell.execute_reply.started": "2025-02-25T14:21:00.31131Z",
          "shell.execute_reply": "2025-02-25T14:21:00.3484Z"
        },
        "id": "liWZsKcyGCxK"
      },
      "outputs": [],
      "execution_count": null
    },
    {
      "cell_type": "code",
      "source": [
        "# Making predictions\n",
        "y_pred = model.predict(X_test)"
      ],
      "metadata": {
        "trusted": true,
        "execution": {
          "iopub.status.busy": "2025-02-25T14:21:00.350268Z",
          "iopub.execute_input": "2025-02-25T14:21:00.350557Z",
          "iopub.status.idle": "2025-02-25T14:21:00.355834Z",
          "shell.execute_reply.started": "2025-02-25T14:21:00.350533Z",
          "shell.execute_reply": "2025-02-25T14:21:00.354714Z"
        },
        "id": "bQNeLMW4GCxK"
      },
      "outputs": [],
      "execution_count": null
    },
    {
      "cell_type": "code",
      "source": [
        "# Evaluating the model\n",
        "print(f\"Accuracy: {accuracy_score(y_test, y_pred)}\")\n",
        "print(f\"Precision: {precision_score(y_test, y_pred, average='weighted')}\")\n",
        "print(f\"Recall: {recall_score(y_test, y_pred, average='weighted')}\")\n",
        "print(f\"F1-Score: {f1_score(y_test, y_pred, average='weighted')}\")\n",
        "print(f\"ROC-AUC Score: {roc_auc_score(y_test, model.predict_proba(X_test), average='weighted', multi_class='ovr')}\")"
      ],
      "metadata": {
        "trusted": true,
        "execution": {
          "iopub.status.busy": "2025-02-25T14:21:00.356753Z",
          "iopub.execute_input": "2025-02-25T14:21:00.357075Z",
          "iopub.status.idle": "2025-02-25T14:21:00.391142Z",
          "shell.execute_reply.started": "2025-02-25T14:21:00.35705Z",
          "shell.execute_reply": "2025-02-25T14:21:00.389893Z"
        },
        "id": "RjUA2pnZGCxL"
      },
      "outputs": [],
      "execution_count": null
    },
    {
      "cell_type": "code",
      "source": [
        "# Checking the Confusion Matrix\n",
        "ConfusionMatrixDisplay.from_estimator(model, X_test, y_test)"
      ],
      "metadata": {
        "trusted": true,
        "execution": {
          "iopub.status.busy": "2025-02-25T14:21:00.392171Z",
          "iopub.execute_input": "2025-02-25T14:21:00.392475Z",
          "iopub.status.idle": "2025-02-25T14:21:00.653198Z",
          "shell.execute_reply.started": "2025-02-25T14:21:00.392449Z",
          "shell.execute_reply": "2025-02-25T14:21:00.65201Z"
        },
        "id": "zHjK6krVGCxL"
      },
      "outputs": [],
      "execution_count": null
    },
    {
      "cell_type": "markdown",
      "source": [
        "---"
      ],
      "metadata": {
        "id": "pAH-XRp9GCxL"
      }
    },
    {
      "cell_type": "markdown",
      "source": [
        "#Inshights\n"
      ],
      "metadata": {
        "id": "Dk0hXLUXGCxL"
      }
    },
    {
      "cell_type": "markdown",
      "source": [
        "After evaluating the performance of different models, the **RandomForestClassifier (RFC)** continues to stand out as the top choice for this task. Here's why:\n",
        "\n",
        "- **RFC** outperforms all other models with the highest **Accuracy (0.969)**, **Precision (0.969)**, **Recall (0.969)**, **F1-Score (0.969)**, and the best **ROC-AUC Score (0.998)**. This demonstrates that the model is exceptionally effective at both classifying correctly and distinguishing between classes, showing high consistency across multiple metrics.\n",
        "\n",
        "- **Logistic Regression** also delivers strong performance with **Accuracy (0.959)**, **Precision (0.959)**, **Recall (0.959)**, and **F1-Score (0.959)**. It achieves a solid **ROC-AUC Score (0.993)**, but it still trails behind **RFC** in terms of overall performance, particularly in distinguishing between classes as effectively.\n",
        "\n",
        "- **SGDClassifier** shows good performance, with **Accuracy (0.903)**, **Precision (0.906)**, and **Recall (0.903)**. However, it lags behind both **RFC** and **Logistic Regression** in terms of the other metrics, making it less optimal for this task.\n",
        "\n",
        "- **MultinomialNB** provides decent results, especially in **Precision (0.887)**, but it still lags behind **RFC** and **Logistic Regression** in terms of overall performance, with **Accuracy (0.882)** and **ROC-AUC Score (0.978)**, indicating it's less effective at capturing the patterns compared to the other models.\n",
        "\n",
        "In conclusion, while **Logistic Regression** and **SGDClassifier** are solid performers, **RandomForestClassifier** emerges as the clear leader due to its overall superior performance, particularly in accuracy and class distinction.\n"
      ],
      "metadata": {
        "id": "6YrzbRcHGCxL"
      }
    },
    {
      "cell_type": "code",
      "source": [],
      "metadata": {
        "trusted": true,
        "id": "T2xBEIamGCxL"
      },
      "outputs": [],
      "execution_count": null
    }
  ]
}